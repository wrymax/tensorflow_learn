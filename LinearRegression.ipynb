{
 "cells": [
  {
   "cell_type": "code",
   "execution_count": 22,
   "metadata": {
    "collapsed": false
   },
   "outputs": [],
   "source": [
    "import numpy as np\n",
    "import tensorflow as tf"
   ]
  },
  {
   "cell_type": "code",
   "execution_count": 24,
   "metadata": {
    "collapsed": false
   },
   "outputs": [
    {
     "name": "stdout",
     "output_type": "stream",
     "text": [
      "W: [ 1.00000215] b: [ 2.99999523] loss: 3.34808e-11\n"
     ]
    }
   ],
   "source": [
    "# to machine learn the parameters W and b for:\n",
    "# y = W*x + b\n",
    "# in which X = [0, 1, 2, 3] and Y = [3, 4, 5, 6]\n",
    "\n",
    "# prepare model\n",
    "W = tf.Variable([.4], dtype=tf.float32)\n",
    "b = tf.Variable([.4], dtype=tf.float32)\n",
    "\n",
    "x = tf.placeholder(tf.float32)\n",
    "y = tf.placeholder(tf.float32)\n",
    "\n",
    "linear_model = W*x + b\n",
    "loss = tf.reduce_sum(tf.square(linear_model - y))\n",
    "\n",
    "optimizer = tf.train.GradientDescentOptimizer(0.01)\n",
    "train = optimizer.minimize(loss)\n",
    "\n",
    "# prepare data\n",
    "X_train = [0, 1, 2, 3]\n",
    "Y_train = [3, 4, 5, 6]\n",
    "\n",
    "# initialize Variables\n",
    "init = tf.global_variables_initializer()\n",
    "session = tf.Session()\n",
    "session.run(init)\n",
    "\n",
    "# training\n",
    "for i in range(1000):\n",
    "    session.run(train, {x: X_train, y: Y_train})\n",
    "\n",
    "# evaluating\n",
    "curr_W, curr_b, curr_loss = session.run([W, b, loss], {x: X_train, y: Y_train})\n",
    "print(\"W: %s b: %s loss: %s\"%(curr_W, curr_b, curr_loss))"
   ]
  },
  {
   "cell_type": "code",
   "execution_count": null,
   "metadata": {
    "collapsed": true
   },
   "outputs": [],
   "source": []
  }
 ],
 "metadata": {
  "kernelspec": {
   "display_name": "Python 3",
   "language": "python",
   "name": "python3"
  },
  "language_info": {
   "codemirror_mode": {
    "name": "ipython",
    "version": 3
   },
   "file_extension": ".py",
   "mimetype": "text/x-python",
   "name": "python",
   "nbconvert_exporter": "python",
   "pygments_lexer": "ipython3",
   "version": "3.5.0"
  }
 },
 "nbformat": 4,
 "nbformat_minor": 2
}
